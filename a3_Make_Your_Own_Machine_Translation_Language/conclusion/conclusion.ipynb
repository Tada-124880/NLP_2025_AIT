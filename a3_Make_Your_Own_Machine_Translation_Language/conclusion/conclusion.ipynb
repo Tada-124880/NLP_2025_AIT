{
 "cells": [
  {
   "cell_type": "markdown",
   "metadata": {},
   "source": [
    "| Attention Type           | Training Loss | Training PPL | Validation Loss | Validation PPL |\n",
    "|--------------------------|---------------|--------------|-----------------|----------------|\n",
    "| General Attention        | 1.035         | 2.816        | 2.066           | 7.895          |\n",
    "| Multiplicative Attention | 1.037         | 2.820        | 2.072           | 7.942          |\n",
    "| Additive Attention       | 1.122         | 3.071        | 2.146           | 8.546          |"
   ]
  }
 ],
 "metadata": {
  "language_info": {
   "name": "python"
  }
 },
 "nbformat": 4,
 "nbformat_minor": 2
}
